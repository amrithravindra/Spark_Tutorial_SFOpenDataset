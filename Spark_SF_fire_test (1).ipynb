{
 "cells": [
  {
   "cell_type": "markdown",
   "metadata": {},
   "source": [
    "This notebook goes through an Apache Spark tutorial to load and wrangle data from San Francisco's open datasets\n",
    "This example will particularly utilize the \"fire department calls for service\" dataset containing over 4.5 million rows starting from the year 2000 all the way upto 2020. the dataset can be downloaded from the following link:\n",
    "\n",
    "https://data.sfgov.org/Public-Safety/Fire-Department-Calls-for-Service/nuek-vuh3"
   ]
  },
  {
   "cell_type": "code",
   "execution_count": 1,
   "metadata": {},
   "outputs": [
    {
     "data": {
      "text/html": [
       "\n",
       "        <div>\n",
       "            <p><b>SparkContext</b></p>\n",
       "\n",
       "            <p><a href=\"http://10.239.52.184:4041\">Spark UI</a></p>\n",
       "\n",
       "            <dl>\n",
       "              <dt>Version</dt>\n",
       "                <dd><code>v2.4.4</code></dd>\n",
       "              <dt>Master</dt>\n",
       "                <dd><code>local[*]</code></dd>\n",
       "              <dt>AppName</dt>\n",
       "                <dd><code>PySparkShell</code></dd>\n",
       "            </dl>\n",
       "        </div>\n",
       "        "
      ],
      "text/plain": [
       "<SparkContext master=local[*] appName=PySparkShell>"
      ]
     },
     "execution_count": 1,
     "metadata": {},
     "output_type": "execute_result"
    }
   ],
   "source": [
    "sc"
   ]
  },
  {
   "cell_type": "code",
   "execution_count": 2,
   "metadata": {
    "collapsed": true
   },
   "outputs": [],
   "source": [
    "# Imports\n",
    "import spark\n",
    "from pyspark.sql import SparkSession\n",
    "from pyspark.sql.types import StructType, StructField, IntegerType, StringType, BooleanType\n",
    "from pyspark.sql.functions import *"
   ]
  },
  {
   "cell_type": "code",
   "execution_count": 3,
   "metadata": {
    "collapsed": true
   },
   "outputs": [],
   "source": [
    "# Setting schema\n",
    "firecalls_schema = StructType([StructField('CallNumber', IntegerType(), True),\n",
    "                               StructField('UnitID', StringType(), True),\n",
    "                               StructField('IncidentNumber', IntegerType(), True),\n",
    "                               StructField('CallType', StringType(), True),\n",
    "                               StructField('CallDate', StringType(), True),\n",
    "                               StructField('WatchDate', StringType(), True),\n",
    "                               StructField('ReceivedDtTm', StringType(), True),\n",
    "                               StructField('EntryDtTm', StringType(), True),\n",
    "                               StructField('DispatchDtTm', StringType(), True),\n",
    "                               StructField('ResponseDtTm', StringType(), True),\n",
    "                               StructField('OnSceneDtTm', StringType(), True),\n",
    "                               StructField('TransportDtTm', StringType(), True),\n",
    "                               StructField('HospitalDtTm', StringType(), True),\n",
    "                               StructField('CallFinalDisposition', StringType(), True),\n",
    "                               StructField('AvailableDtTm', StringType(), True),\n",
    "                               StructField('Address', StringType(), True),\n",
    "                               StructField('City', StringType(), True),\n",
    "                               StructField('ZipcodeofIncident', IntegerType(), True),\n",
    "                               StructField('Battalion', StringType(), True),\n",
    "                               StructField('StationArea', StringType(), True),\n",
    "                               StructField('Box', StringType(), True),\n",
    "                               StructField('OriginalPriority', StringType(), True),\n",
    "                               StructField('Priority', StringType(), True),\n",
    "                               StructField('FinalPriority', IntegerType(), True),\n",
    "                               StructField('ALSUnit', BooleanType(), True),\n",
    "                               StructField('CallTypeGroup', StringType(), True),\n",
    "                               StructField('NumberofAlarms', IntegerType(), True),\n",
    "                               StructField('UnitType', StringType(), True),\n",
    "                               StructField('Unitsequenceincalldispatch', IntegerType(), True),\n",
    "                               StructField('FirePreventionDistrict', StringType(), True),\n",
    "                               StructField('SupervisorDistrict', StringType(), True),\n",
    "                               StructField('NeighborhoodDistrict', StringType(), True),\n",
    "                               StructField('Location', StringType(), True),\n",
    "                               StructField('RowID', StringType(), True),\n",
    "    \n",
    "]\n",
    ")"
   ]
  },
  {
   "cell_type": "code",
   "execution_count": 4,
   "metadata": {
    "collapsed": true
   },
   "outputs": [],
   "source": [
    "# Creating Spark Session and reading CSV file\n",
    "spark = SparkSession \\\n",
    "    .builder \\\n",
    "    .appName(\"Spark SFFireDepartmentCalls\") \\\n",
    "    .getOrCreate()\n",
    "\n",
    "df = spark.read.csv(\"Fire_Department_Calls_for_Service.csv\", header=True, schema=firecalls_schema);"
   ]
  },
  {
   "cell_type": "code",
   "execution_count": 5,
   "metadata": {},
   "outputs": [
    {
     "name": "stdout",
     "output_type": "stream",
     "text": [
      "+----------+------+--------------+----------------+----------+----------+--------------------+--------------------+--------------------+--------------------+--------------------+--------------------+--------------------+--------------------+--------------------+--------------------+-------------+-----------------+---------+-----------+----+----------------+--------+-------------+-------+--------------------+--------------+--------+--------------------------+----------------------+------------------+--------------------+--------------------+--------------+\n",
      "|CallNumber|UnitID|IncidentNumber|        CallType|  CallDate| WatchDate|        ReceivedDtTm|           EntryDtTm|        DispatchDtTm|        ResponseDtTm|         OnSceneDtTm|       TransportDtTm|        HospitalDtTm|CallFinalDisposition|       AvailableDtTm|             Address|         City|ZipcodeofIncident|Battalion|StationArea| Box|OriginalPriority|Priority|FinalPriority|ALSUnit|       CallTypeGroup|NumberofAlarms|UnitType|Unitsequenceincalldispatch|FirePreventionDistrict|SupervisorDistrict|NeighborhoodDistrict|            Location|         RowID|\n",
      "+----------+------+--------------+----------------+----------+----------+--------------------+--------------------+--------------------+--------------------+--------------------+--------------------+--------------------+--------------------+--------------------+--------------------+-------------+-----------------+---------+-----------+----+----------------+--------+-------------+-------+--------------------+--------------+--------+--------------------------+----------------------+------------------+--------------------+--------------------+--------------+\n",
      "| 192910017|   E11|      19125164|          Alarms|10/18/2019|10/17/2019|10/18/2019 12:03:...|10/18/2019 12:06:...|10/18/2019 12:07:...|10/18/2019 12:08:...|10/18/2019 12:11:...|                null|                null|                Fire|10/18/2019 12:33:...| 24TH ST/VALENCIA ST|San Francisco|            94110|      B06|         11|5525|               3|       3|            3|   true|               Alarm|             1|  ENGINE|                         1|                     6|                 9|             Mission|(37.7521036457482...| 192910017-E11|\n",
      "| 192910018|   B10|      19125165|          Alarms|10/18/2019|10/17/2019|10/18/2019 12:05:...|10/18/2019 12:07:...|10/18/2019 12:09:...|                null|                null|                null|                null|               Other|10/18/2019 12:10:...|3300 Block of 23R...|San Francisco|            94110|      B06|         11|0552|               3|       3|            3|  false|               Alarm|             1|   CHIEF|                         1|                     6|                 9|             Mission|(37.7536816295494...| 192910018-B10|\n",
      "| 192910018|   T07|      19125165|          Alarms|10/18/2019|10/17/2019|10/18/2019 12:05:...|10/18/2019 12:07:...|10/18/2019 12:09:...|                null|                null|                null|                null|               Other|10/18/2019 12:10:...|3300 Block of 23R...|San Francisco|            94110|      B06|         11|0552|               3|       3|            3|  false|               Alarm|             1|   TRUCK|                         3|                     6|                 9|             Mission|(37.7536816295494...| 192910018-T07|\n",
      "| 192910025|   B04|      19125166|          Alarms|10/18/2019|10/17/2019|10/18/2019 12:09:...|10/18/2019 12:09:...|10/18/2019 12:09:...|10/18/2019 12:09:...|10/18/2019 12:09:...|                null|                null|                Fire|10/18/2019 12:21:...|3300 Block of FIL...|San Francisco|            94123|      B04|         16|3554|               3|       3|            3|  false|               Alarm|             1|   CHIEF|                         1|                     4|                 2|              Marina|(37.8003405635686...| 192910025-B04|\n",
      "| 192910034|   E01|      19125167|  Structure Fire|10/18/2019|10/17/2019|10/18/2019 12:12:...|10/18/2019 12:12:...|10/18/2019 12:12:...|10/18/2019 12:13:...|10/18/2019 12:16:...|                null|                null|                Fire|10/18/2019 12:16:...|   7TH ST/MISSION ST|San Francisco|            94103|      B02|         01|2315|               3|       3|            3|   true|               Alarm|             1|  ENGINE|                         1|                     2|                 6|     South of Market|(37.7792116845420...| 192910034-E01|\n",
      "| 192910034|   T01|      19125167|  Structure Fire|10/18/2019|10/17/2019|10/18/2019 12:12:...|10/18/2019 12:12:...|10/18/2019 12:12:...|10/18/2019 12:14:...|                null|                null|                null|                Fire|10/18/2019 12:16:...|   7TH ST/MISSION ST|San Francisco|            94103|      B02|         01|2315|               3|       3|            3|  false|               Alarm|             1|   TRUCK|                         2|                     2|                 6|     South of Market|(37.7792116845420...| 192910034-T01|\n",
      "| 192910039|    76|      19125168|Medical Incident|10/18/2019|10/17/2019|10/18/2019 12:14:...|10/18/2019 12:14:...|10/18/2019 12:15:...|10/18/2019 12:15:...|10/18/2019 12:32:...|10/18/2019 12:56:...|10/18/2019 01:15:...|    Code 2 Transport|10/18/2019 01:48:...|1600 Block of MCK...|San Francisco|            94124|      B10|         17|6515|               A|       2|            2|   true|Non Life-threatening|             1|   MEDIC|                         1|                    10|                10|Bayview Hunters P...|(37.7360788249591...|  192910039-76|\n",
      "| 192910048|   T08|      19125169|          Alarms|10/18/2019|10/17/2019|10/18/2019 12:20:...|10/18/2019 12:21:...|10/18/2019 12:21:...|10/18/2019 12:24:...|10/18/2019 12:26:...|                null|                null|                Fire|10/18/2019 12:40:...|100 Block of BERR...|San Francisco|            94158|      B03|         08|2171|               3|       3|            3|  false|               Alarm|             1|   TRUCK|                         3|                     3|                 6|         Mission Bay|(37.7766313854102...| 192910048-T08|\n",
      "| 192910057|    78|      19125170|Medical Incident|10/18/2019|10/17/2019|10/18/2019 12:23:...|10/18/2019 12:26:...|10/18/2019 12:26:...|10/18/2019 12:27:...|10/18/2019 12:34:...|10/18/2019 12:53:...|10/18/2019 01:01:...|    Code 3 Transport|10/18/2019 01:52:...|800 Block of FOER...|San Francisco|            94127|      B09|         15|8247|               3|       3|            3|   true|Potentially Life-...|             1|   MEDIC|                         2|                     9|                 7|  West of Twin Peaks|(37.7360804876998...|  192910057-78|\n",
      "| 192910057|   E15|      19125170|Medical Incident|10/18/2019|10/17/2019|10/18/2019 12:23:...|10/18/2019 12:26:...|10/18/2019 12:26:...|10/18/2019 12:29:...|10/18/2019 12:33:...|                null|                null|    Code 3 Transport|10/18/2019 01:17:...|800 Block of FOER...|San Francisco|            94127|      B09|         15|8247|               3|       3|            3|   true|Potentially Life-...|             1|  ENGINE|                         1|                     9|                 7|  West of Twin Peaks|(37.7360804876998...| 192910057-E15|\n",
      "| 192910063|  QRV1|      19125171|Medical Incident|10/18/2019|10/17/2019|10/18/2019 12:28:...|10/18/2019 12:29:...|10/18/2019 12:29:...|10/18/2019 12:29:...|10/18/2019 12:30:...|                null|                null|    Code 2 Transport|10/18/2019 12:45:...|200 Block of GOLD...|San Francisco|            94102|      B02|         03|1546|               3|       3|            3|   true|Potentially Life-...|             1| SUPPORT|                         1|                     2|                 6|          Tenderloin|(37.7818654473303...|192910063-QRV1|\n",
      "| 192910064|    72|      19125172|Medical Incident|10/18/2019|10/17/2019|10/18/2019 12:28:...|10/18/2019 12:29:...|10/18/2019 12:30:...|10/18/2019 12:30:...|10/18/2019 12:39:...|10/18/2019 12:54:...|10/18/2019 01:11:...|    Code 2 Transport|10/18/2019 01:46:...|700 Block of FONT...|San Francisco|            94132|      B08|         19|0868|               3|       3|            3|   true|Potentially Life-...|             1|   MEDIC|                         2|                     8|                 7|           Lakeshore|(37.7230583826675...|  192910064-72|\n",
      "| 192910064|   E19|      19125172|Medical Incident|10/18/2019|10/17/2019|10/18/2019 12:28:...|10/18/2019 12:29:...|10/18/2019 12:30:...|10/18/2019 12:31:...|10/18/2019 12:36:...|                null|                null|    Code 2 Transport|10/18/2019 01:14:...|700 Block of FONT...|San Francisco|            94132|      B08|         19|0868|               3|       3|            3|   true|Potentially Life-...|             1|  ENGINE|                         1|                     8|                 7|           Lakeshore|(37.7230583826675...| 192910064-E19|\n",
      "| 192910070|    95|      19125173|Medical Incident|10/18/2019|10/17/2019|10/18/2019 12:32:...|10/18/2019 12:32:...|10/18/2019 12:32:...|10/18/2019 12:33:...|10/18/2019 12:41:...|10/18/2019 12:56:...|10/18/2019 01:02:...|    Code 2 Transport|10/18/2019 01:34:...|2900 Block of SAN...|San Francisco|            94134|      B10|         44|6326|               A|       3|            3|   true|Potentially Life-...|             1|   MEDIC|                         1|                    10|                 9|             Portola|(37.7246523794048...|  192910070-95|\n",
      "| 192910070|   E44|      19125173|Medical Incident|10/18/2019|10/17/2019|10/18/2019 12:32:...|10/18/2019 12:32:...|10/18/2019 12:37:...|10/18/2019 12:40:...|                null|                null|                null|    Code 2 Transport|10/18/2019 12:42:...|2900 Block of SAN...|San Francisco|            94134|      B10|         44|6326|               A|       3|            3|   true|Potentially Life-...|             1|  ENGINE|                         2|                    10|                 9|             Portola|(37.7246523794048...| 192910070-E44|\n",
      "| 192910125|    54|      19125174|Medical Incident|10/18/2019|10/17/2019|10/18/2019 01:08:...|10/18/2019 01:10:...|10/18/2019 01:10:...|10/18/2019 01:11:...|10/18/2019 01:17:...|10/18/2019 01:45:...|10/18/2019 01:50:...|    Code 2 Transport|10/18/2019 02:22:...|1200 Block of MAR...|San Francisco|            94103|      B02|         36|2317|               2|       2|            2|   true|Non Life-threatening|             1|   MEDIC|                         1|                     2|                 6|     South of Market|(37.7780365108208...|  192910125-54|\n",
      "| 192910130|    75|      19125175|Medical Incident|10/18/2019|10/17/2019|10/18/2019 01:11:...|10/18/2019 01:12:...|10/18/2019 01:13:...|10/18/2019 01:13:...|                null|                null|                null|           Cancelled|10/18/2019 01:16:...|400 Block of MONT...|San Francisco|            94112|      B09|         15|8221|               E|       E|            3|   true|Potentially Life-...|             1|   MEDIC|                         1|                     9|                 7|  West of Twin Peaks|(37.7314603598496...|  192910130-75|\n",
      "| 192910130|   E26|      19125175|Medical Incident|10/18/2019|10/17/2019|10/18/2019 01:11:...|10/18/2019 01:12:...|10/18/2019 01:13:...|10/18/2019 01:15:...|                null|                null|                null|           Cancelled|10/18/2019 01:16:...|400 Block of MONT...|San Francisco|            94112|      B09|         15|8221|               E|       E|            3|   true|Potentially Life-...|             1|  ENGINE|                         2|                     9|                 7|  West of Twin Peaks|(37.7314603598496...| 192910130-E26|\n",
      "| 172813828|   T13|      17118402|          Alarms|10/08/2017|10/08/2017|10/08/2017 09:29:...|10/08/2017 09:31:...|10/08/2017 09:31:...|                null|                null|                null|                null|                Fire|10/08/2017 09:32:...|600 Block of POWE...|San Francisco|            94108|      B01|         02|1361|               3|       3|            3|  false|               Alarm|             1|   TRUCK|                         3|                     1|                 3|            Nob Hill|(37.790494992376,...| 172813828-T13|\n",
      "| 172611187|   T05|      17109812|          Alarms|09/18/2017|09/18/2017|09/18/2017 09:57:...|09/18/2017 09:58:...|09/18/2017 09:59:...|09/18/2017 10:00:...|                null|                null|                null|                Fire|09/18/2017 10:05:...|2600 Block of SCO...|San Francisco|            94123|      B04|         16|4122|               3|       3|            3|  false|               Alarm|             1|   TRUCK|                         3|                     4|                 2|     Pacific Heights|(37.794114346677,...| 172611187-T05|\n",
      "+----------+------+--------------+----------------+----------+----------+--------------------+--------------------+--------------------+--------------------+--------------------+--------------------+--------------------+--------------------+--------------------+--------------------+-------------+-----------------+---------+-----------+----+----------------+--------+-------------+-------+--------------------+--------------+--------+--------------------------+----------------------+------------------+--------------------+--------------------+--------------+\n",
      "only showing top 20 rows\n",
      "\n"
     ]
    }
   ],
   "source": [
    "# View dataframe\n",
    "df.show()"
   ]
  },
  {
   "cell_type": "code",
   "execution_count": 6,
   "metadata": {},
   "outputs": [
    {
     "data": {
      "text/plain": [
       "['CallNumber',\n",
       " 'UnitID',\n",
       " 'IncidentNumber',\n",
       " 'CallType',\n",
       " 'CallDate',\n",
       " 'WatchDate',\n",
       " 'ReceivedDtTm',\n",
       " 'EntryDtTm',\n",
       " 'DispatchDtTm',\n",
       " 'ResponseDtTm',\n",
       " 'OnSceneDtTm',\n",
       " 'TransportDtTm',\n",
       " 'HospitalDtTm',\n",
       " 'CallFinalDisposition',\n",
       " 'AvailableDtTm',\n",
       " 'Address',\n",
       " 'City',\n",
       " 'ZipcodeofIncident',\n",
       " 'Battalion',\n",
       " 'StationArea',\n",
       " 'Box',\n",
       " 'OriginalPriority',\n",
       " 'Priority',\n",
       " 'FinalPriority',\n",
       " 'ALSUnit',\n",
       " 'CallTypeGroup',\n",
       " 'NumberofAlarms',\n",
       " 'UnitType',\n",
       " 'Unitsequenceincalldispatch',\n",
       " 'FirePreventionDistrict',\n",
       " 'SupervisorDistrict',\n",
       " 'NeighborhoodDistrict',\n",
       " 'Location',\n",
       " 'RowID']"
      ]
     },
     "execution_count": 6,
     "metadata": {},
     "output_type": "execute_result"
    }
   ],
   "source": [
    "# Printing all columns in the dataframe\n",
    "df.columns"
   ]
  },
  {
   "cell_type": "code",
   "execution_count": 7,
   "metadata": {},
   "outputs": [
    {
     "name": "stdout",
     "output_type": "stream",
     "text": [
      "+--------------------------------------------+\n",
      "|CallType                                    |\n",
      "+--------------------------------------------+\n",
      "|Elevator / Escalator Rescue                 |\n",
      "|Marine Fire                                 |\n",
      "|Aircraft Emergency                          |\n",
      "|Confined Space / Structure Collapse         |\n",
      "|Administrative                              |\n",
      "|Alarms                                      |\n",
      "|Odor (Strange / Unknown)                    |\n",
      "|Lightning Strike (Investigation)            |\n",
      "|Citizen Assist / Service Call               |\n",
      "|HazMat                                      |\n",
      "|Watercraft in Distress                      |\n",
      "|Explosion                                   |\n",
      "|Oil Spill                                   |\n",
      "|Vehicle Fire                                |\n",
      "|Suspicious Package                          |\n",
      "|Train / Rail Fire                           |\n",
      "|Extrication / Entrapped (Machinery, Vehicle)|\n",
      "|Other                                       |\n",
      "|Outside Fire                                |\n",
      "|Traffic Collision                           |\n",
      "|Assist Police                               |\n",
      "|Gas Leak (Natural and LP Gases)             |\n",
      "|Water Rescue                                |\n",
      "|Electrical Hazard                           |\n",
      "|High Angle Rescue                           |\n",
      "|Structure Fire                              |\n",
      "|Industrial Accidents                        |\n",
      "|Medical Incident                            |\n",
      "|Mutual Aid / Assist Outside Agency          |\n",
      "|Fuel Spill                                  |\n",
      "|Smoke Investigation (Outside)               |\n",
      "|Train / Rail Incident                       |\n",
      "+--------------------------------------------+\n",
      "\n"
     ]
    }
   ],
   "source": [
    "# Getting tope 35 distinct call types in the dataframe\n",
    "# 'False' argument expands column width to include the full text\n",
    "df.select('CallType').distinct().show(35, False)"
   ]
  },
  {
   "cell_type": "code",
   "execution_count": 8,
   "metadata": {},
   "outputs": [
    {
     "name": "stdout",
     "output_type": "stream",
     "text": [
      "+--------------------+-------+\n",
      "|            CallType|  count|\n",
      "+--------------------+-------+\n",
      "|    Medical Incident|3384315|\n",
      "|      Structure Fire| 657136|\n",
      "|              Alarms| 560765|\n",
      "|   Traffic Collision| 213380|\n",
      "|               Other|  82028|\n",
      "|Citizen Assist / ...|  77537|\n",
      "|        Outside Fire|  62111|\n",
      "|        Water Rescue|  25295|\n",
      "|        Vehicle Fire|  24384|\n",
      "|Gas Leak (Natural...|  20655|\n",
      "|   Electrical Hazard|  15335|\n",
      "|Elevator / Escala...|  13993|\n",
      "|Odor (Strange / U...|  12777|\n",
      "|Smoke Investigati...|  11553|\n",
      "|          Fuel Spill|   5960|\n",
      "|              HazMat|   4093|\n",
      "|Industrial Accidents|   2967|\n",
      "|           Explosion|   2736|\n",
      "|  Aircraft Emergency|   1511|\n",
      "|       Assist Police|   1382|\n",
      "+--------------------+-------+\n",
      "only showing top 20 rows\n",
      "\n"
     ]
    }
   ],
   "source": [
    "# Applying Spark transformations to get calls by highest count \n",
    "df.select('CallType').groupBy('CallType').count().orderBy('count', ascending=False).show()"
   ]
  },
  {
   "cell_type": "code",
   "execution_count": 9,
   "metadata": {},
   "outputs": [
    {
     "name": "stdout",
     "output_type": "stream",
     "text": [
      "root\n",
      " |-- CallNumber: integer (nullable = true)\n",
      " |-- UnitID: string (nullable = true)\n",
      " |-- IncidentNumber: integer (nullable = true)\n",
      " |-- CallType: string (nullable = true)\n",
      " |-- CallDate: string (nullable = true)\n",
      " |-- WatchDate: string (nullable = true)\n",
      " |-- ReceivedDtTm: string (nullable = true)\n",
      " |-- EntryDtTm: string (nullable = true)\n",
      " |-- DispatchDtTm: string (nullable = true)\n",
      " |-- ResponseDtTm: string (nullable = true)\n",
      " |-- OnSceneDtTm: string (nullable = true)\n",
      " |-- TransportDtTm: string (nullable = true)\n",
      " |-- HospitalDtTm: string (nullable = true)\n",
      " |-- CallFinalDisposition: string (nullable = true)\n",
      " |-- AvailableDtTm: string (nullable = true)\n",
      " |-- Address: string (nullable = true)\n",
      " |-- City: string (nullable = true)\n",
      " |-- ZipcodeofIncident: integer (nullable = true)\n",
      " |-- Battalion: string (nullable = true)\n",
      " |-- StationArea: string (nullable = true)\n",
      " |-- Box: string (nullable = true)\n",
      " |-- OriginalPriority: string (nullable = true)\n",
      " |-- Priority: string (nullable = true)\n",
      " |-- FinalPriority: integer (nullable = true)\n",
      " |-- ALSUnit: boolean (nullable = true)\n",
      " |-- CallTypeGroup: string (nullable = true)\n",
      " |-- NumberofAlarms: integer (nullable = true)\n",
      " |-- UnitType: string (nullable = true)\n",
      " |-- Unitsequenceincalldispatch: integer (nullable = true)\n",
      " |-- FirePreventionDistrict: string (nullable = true)\n",
      " |-- SupervisorDistrict: string (nullable = true)\n",
      " |-- NeighborhoodDistrict: string (nullable = true)\n",
      " |-- Location: string (nullable = true)\n",
      " |-- RowID: string (nullable = true)\n",
      "\n"
     ]
    }
   ],
   "source": [
    "df.printSchema()"
   ]
  },
  {
   "cell_type": "code",
   "execution_count": 10,
   "metadata": {
    "collapsed": true
   },
   "outputs": [],
   "source": [
    "# Spark uses Java simple date format\n",
    "# Converting 'Date' and 'DateTime' columns from String to DateTime format\n",
    "\n",
    "from_pattern1 = 'MM/dd/yyyy'\n",
    "to_pattern1 = 'yyyy-MM-dd'\n",
    "\n",
    "from_pattern2 = 'MM/dd/yyyy hh:mm:ss aa'\n",
    "to_pattern2 = 'MM/dd/yyyy hh:mm:ss aa'\n",
    "\n",
    "df = df\\\n",
    "    .withColumn('CallDateTS', unix_timestamp(df['CallDate'], from_pattern1).cast('timestamp'))\\\n",
    "    .drop('CallDate')\\\n",
    "    .withColumn('WatchDateTS', unix_timestamp(df['WatchDate'], from_pattern1).cast('timestamp'))\\\n",
    "    .drop('WatchDate')\\\n",
    "    .withColumn('ReceivedDtTmTS', unix_timestamp(df['ReceivedDtTm'], from_pattern2).cast('timestamp'))\\\n",
    "    .drop('ReceivedDtTm')\\\n",
    "    .withColumn('EntryDtTmTS', unix_timestamp(df['EntryDtTm'], from_pattern2).cast('timestamp'))\\\n",
    "    .drop('EntryDtTm')\\\n",
    "    .withColumn('DispatchDtTmTS', unix_timestamp(df['DispatchDtTm'], from_pattern2).cast('timestamp'))\\\n",
    "    .drop('DispatchDtTm')\\\n",
    "    .withColumn('ResponseDtTmTS', unix_timestamp(df['ResponseDtTm'], from_pattern2).cast('timestamp'))\\\n",
    "    .drop('ResponseDtTm')\\\n",
    "    .withColumn('OnSceneDtTmTS', unix_timestamp(df['OnSceneDtTm'], from_pattern2).cast('timestamp'))\\\n",
    "    .drop('OnSceneDtTm')\\\n",
    "    .withColumn('TransportDtTmTS', unix_timestamp(df['TransportDtTm'], from_pattern2).cast('timestamp'))\\\n",
    "    .drop('TransportDtTm')\\\n",
    "    .withColumn('HospitalDtTmTS', unix_timestamp(df['HospitalDtTm'], from_pattern2).cast('timestamp'))\\\n",
    "    .drop('HospitalDtTm')\\\n",
    "    .withColumn('AvailableDtTmTS', unix_timestamp(df['AvailableDtTm'], from_pattern2).cast('timestamp'))\\\n",
    "    .drop('AvailableDtTm')\\\n"
   ]
  },
  {
   "cell_type": "code",
   "execution_count": 11,
   "metadata": {},
   "outputs": [
    {
     "name": "stdout",
     "output_type": "stream",
     "text": [
      "root\n",
      " |-- CallNumber: integer (nullable = true)\n",
      " |-- UnitID: string (nullable = true)\n",
      " |-- IncidentNumber: integer (nullable = true)\n",
      " |-- CallType: string (nullable = true)\n",
      " |-- CallFinalDisposition: string (nullable = true)\n",
      " |-- Address: string (nullable = true)\n",
      " |-- City: string (nullable = true)\n",
      " |-- ZipcodeofIncident: integer (nullable = true)\n",
      " |-- Battalion: string (nullable = true)\n",
      " |-- StationArea: string (nullable = true)\n",
      " |-- Box: string (nullable = true)\n",
      " |-- OriginalPriority: string (nullable = true)\n",
      " |-- Priority: string (nullable = true)\n",
      " |-- FinalPriority: integer (nullable = true)\n",
      " |-- ALSUnit: boolean (nullable = true)\n",
      " |-- CallTypeGroup: string (nullable = true)\n",
      " |-- NumberofAlarms: integer (nullable = true)\n",
      " |-- UnitType: string (nullable = true)\n",
      " |-- Unitsequenceincalldispatch: integer (nullable = true)\n",
      " |-- FirePreventionDistrict: string (nullable = true)\n",
      " |-- SupervisorDistrict: string (nullable = true)\n",
      " |-- NeighborhoodDistrict: string (nullable = true)\n",
      " |-- Location: string (nullable = true)\n",
      " |-- RowID: string (nullable = true)\n",
      " |-- CallDateTS: timestamp (nullable = true)\n",
      " |-- WatchDateTS: timestamp (nullable = true)\n",
      " |-- ReceivedDtTmTS: timestamp (nullable = true)\n",
      " |-- EntryDtTmTS: timestamp (nullable = true)\n",
      " |-- DispatchDtTmTS: timestamp (nullable = true)\n",
      " |-- ResponseDtTmTS: timestamp (nullable = true)\n",
      " |-- OnSceneDtTmTS: timestamp (nullable = true)\n",
      " |-- TransportDtTmTS: timestamp (nullable = true)\n",
      " |-- HospitalDtTmTS: timestamp (nullable = true)\n",
      " |-- AvailableDtTmTS: timestamp (nullable = true)\n",
      "\n"
     ]
    }
   ],
   "source": [
    "df.printSchema()"
   ]
  },
  {
   "cell_type": "code",
   "execution_count": 12,
   "metadata": {},
   "outputs": [
    {
     "name": "stdout",
     "output_type": "stream",
     "text": [
      "+----------------+\n",
      "|year(CallDateTS)|\n",
      "+----------------+\n",
      "|            2000|\n",
      "|            2001|\n",
      "|            2002|\n",
      "|            2003|\n",
      "|            2004|\n",
      "|            2005|\n",
      "|            2006|\n",
      "|            2007|\n",
      "|            2008|\n",
      "|            2009|\n",
      "|            2010|\n",
      "|            2011|\n",
      "|            2012|\n",
      "|            2013|\n",
      "|            2014|\n",
      "|            2015|\n",
      "|            2016|\n",
      "|            2017|\n",
      "|            2018|\n",
      "|            2019|\n",
      "+----------------+\n",
      "only showing top 20 rows\n",
      "\n"
     ]
    }
   ],
   "source": [
    "# Getting all the distinct years in the dataframe\n",
    "df.select(year('CallDateTS')).distinct().orderBy('year(CallDateTS)').show()"
   ]
  },
  {
   "cell_type": "code",
   "execution_count": 13,
   "metadata": {},
   "outputs": [
    {
     "name": "stdout",
     "output_type": "stream",
     "text": [
      "+---------------------+\n",
      "|dayofyear(CallDateTS)|\n",
      "+---------------------+\n",
      "|                  180|\n",
      "|                  181|\n",
      "|                  182|\n",
      "|                  183|\n",
      "|                  184|\n",
      "|                  185|\n",
      "|                  186|\n",
      "|                  187|\n",
      "|                  188|\n",
      "|                  189|\n",
      "|                  190|\n",
      "+---------------------+\n",
      "\n"
     ]
    }
   ],
   "source": [
    "# Filtering down days to the first ten days in the July of 2019\n",
    "df.filter(year('CallDateTS') == '2019')\\\n",
    ".filter(dayofyear('CallDateTS') >= 180)\\\n",
    ".filter(dayofyear('CallDateTS') <= 190)\\\n",
    ".select(dayofyear('CallDateTS'))\\\n",
    ".distinct()\\\n",
    ".orderBy('dayofyear(CallDateTS)')\\\n",
    ".show()"
   ]
  },
  {
   "cell_type": "code",
   "execution_count": 14,
   "metadata": {},
   "outputs": [
    {
     "name": "stdout",
     "output_type": "stream",
     "text": [
      "+---------------------+-----+\n",
      "|dayofyear(CallDateTS)|count|\n",
      "+---------------------+-----+\n",
      "|                  180|  899|\n",
      "|                  181|  917|\n",
      "|                  182|  816|\n",
      "|                  183|  763|\n",
      "|                  184|  770|\n",
      "|                  185|  905|\n",
      "|                  186|  850|\n",
      "|                  187|  740|\n",
      "|                  188|  714|\n",
      "|                  189|  898|\n",
      "|                  190|  822|\n",
      "+---------------------+-----+\n",
      "\n"
     ]
    }
   ],
   "source": [
    "# Coounting number of calls per day in July 2019\n",
    "df.filter(year('CallDateTS') == '2019').filter(dayofyear('CallDateTS') >= 180)\\\n",
    ".filter(dayofyear('CallDateTS') <= 190)\\\n",
    ".groupBy(dayofyear('CallDateTS'))\\\n",
    ".count()\\\n",
    ".orderBy('dayofyear(CallDateTS)')\\\n",
    ".show()"
   ]
  },
  {
   "cell_type": "code",
   "execution_count": 15,
   "metadata": {},
   "outputs": [
    {
     "data": {
      "text/plain": [
       "DataFrame[dayofyear(CallDateTS): int, count: bigint]"
      ]
     },
     "metadata": {},
     "output_type": "display_data"
    }
   ],
   "source": [
    "display(df.filter(year('CallDateTS') == '2019').filter(dayofyear('CallDateTS') >= 180)\\\n",
    ".filter(dayofyear('CallDateTS') <= 190)\\\n",
    ".groupBy(dayofyear('CallDateTS'))\\\n",
    ".count()\\\n",
    ".orderBy('dayofyear(CallDateTS)'))"
   ]
  },
  {
   "cell_type": "code",
   "execution_count": 16,
   "metadata": {},
   "outputs": [
    {
     "data": {
      "text/plain": [
       "15"
      ]
     },
     "execution_count": 16,
     "metadata": {},
     "output_type": "execute_result"
    }
   ],
   "source": [
    "df.rdd.getNumPartitions()"
   ]
  },
  {
   "cell_type": "code",
   "execution_count": 17,
   "metadata": {
    "collapsed": true
   },
   "outputs": [],
   "source": [
    "df.repartition(6).createOrReplaceTempView(\"fireCallsView\")"
   ]
  }
 ],
 "metadata": {
  "kernelspec": {
   "display_name": "Python 3",
   "language": "python",
   "name": "python3"
  },
  "language_info": {
   "codemirror_mode": {
    "name": "ipython",
    "version": 3
   },
   "file_extension": ".py",
   "mimetype": "text/x-python",
   "name": "python",
   "nbconvert_exporter": "python",
   "pygments_lexer": "ipython3",
   "version": "3.6.3"
  }
 },
 "nbformat": 4,
 "nbformat_minor": 2
}
